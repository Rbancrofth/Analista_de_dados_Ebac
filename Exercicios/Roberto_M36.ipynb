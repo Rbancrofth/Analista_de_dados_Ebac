{
  "nbformat": 4,
  "nbformat_minor": 0,
  "metadata": {
    "colab": {
      "provenance": []
    },
    "kernelspec": {
      "name": "python3",
      "display_name": "Python 3"
    }
  },
  "cells": [
    {
      "cell_type": "markdown",
      "metadata": {
        "id": "KJqp9AANOCtf"
      },
      "source": [
        "<img src=\"https://raw.githubusercontent.com/andre-marcos-perez/ebac-course-utils/main/media/logo/newebac_logo_black_half.png\" alt=\"ebac-logo\">\n",
        "\n",
        "---\n",
        "\n",
        "# **Módulo** | SQL: Projeto\n",
        "Caderno de **Informações**<br>\n",
        "Professor [Mariane Neiva](https://www.linkedin.com/in/mariane-neiva/)\n",
        "\n",
        "---"
      ]
    },
    {
      "cell_type": "markdown",
      "metadata": {
        "id": "d9jDtUbDOE1-"
      },
      "source": [
        "# **Tópicos**\n",
        "\n",
        "<ol type=\"1\">\n",
        "  <li>Criação da tabela e algumas queries;</li>\n",
        "  <li>Links utéis;</li>\n",
        "  <li>Dicas de livros, podcasts e outros;</li>\n",
        "</ol>"
      ]
    },
    {
      "cell_type": "markdown",
      "metadata": {
        "id": "SmoHgt-lwkpD"
      },
      "source": [
        "# O PROJETO\n",
        "\n",
        "Observação: Não há necessidade de entrega de exercício nessa fase.  O que vocês precisam fazer é o projeto!\n",
        "\n",
        "**Crie um bloco de notas e insira o link do seu projeto para o tutor avaliar!**\n",
        "\n",
        "Não esqueça de deixar o portfólio público! Você pode postar o link com uma pequena descrição nas suas redes sociais (Facebook, Linkedlin, Twitter, ...), prática altamente recomendável\n"
      ]
    },
    {
      "cell_type": "markdown",
      "metadata": {
        "id": "vvlBORqbTPQp"
      },
      "source": [
        "---"
      ]
    },
    {
      "cell_type": "markdown",
      "metadata": {
        "id": "ym_TsGX5_6Nd"
      },
      "source": [
        "# **1. Criação da tabela e algumas queries**\n",
        "\n",
        "\n",
        "\n",
        "> **Não há necessidade de entrega**.\n",
        "Para esses exercícios, utilizaremos os mesmo dados do módulo 3.\n",
        "\n",
        "As informações de **credito8.csv** estarão disponíveis no material de aula.\n",
        "\n",
        "Siga os seguintes passos para criação da tabela (desconsidere caso você já tenha os dados no seu S3):\n",
        "\n",
        "* Crie uma pasta bucket-transacoes no seu S3 e carregue o arquivo **credito8.csv**\n",
        "* Volta para o AWS Athena e execute o seguinte comando:\n",
        "\n",
        "```sql\n",
        "CREATE EXTERNAL TABLE IF NOT EXISTS default.credito (\n",
        "  `idade` int,\n",
        "  `sexo` string,\n",
        "  `dependentes` int,\n",
        "  `escolaridade` string,\n",
        "  `estado_civil` string,\n",
        "  `salario_anual` string,\n",
        "  `tipo_cartao` string,\n",
        "  `qtd_produtos` bigint,\n",
        "  `iteracoes_12m` int,\n",
        "  `meses_inativo_12m` int,\n",
        "  `limite_credito` float,\n",
        "  `valor_transacoes_12m` float,\n",
        "  `qtd_transacoes_12m` int\n",
        ")\n",
        "ROW FORMAT SERDE 'org.apache.hadoop.hive.serde2.lazy.LazySimpleSerDe'\n",
        "WITH SERDEPROPERTIES (\n",
        "  'serialization.format' = ',',\n",
        "  'field.delim' = ','\n",
        ") LOCATION <sua-localizacao>\n",
        "TBLPROPERTIES ('has_encrypted_data'='false');\n",
        "```\n",
        "\n",
        "Utilizaremos a tabela para o projeto.\n",
        "\n",
        "Abaixo vão algumas dicas de queries que podem ser utilizadas. Sugiro que crie novas, com outras funcionalidades não utilizadas aqui e faça novas perguntas para o dataset.\n",
        "\n",
        "```sql\n",
        "select * from credito limit 10;\n",
        "```\n",
        "\n",
        "```sql\n",
        "select count(*) from credito\n",
        "```\n",
        "```sql\n",
        "DESCRIBE credito\n",
        "```\n",
        "\n",
        "```sql\n",
        "SELECT DISTINCT escolaridade FROM credito\n",
        "```\n",
        "\n",
        "```sql\n",
        "select count(*), salario_anual from credito group by salario_anual\n",
        "```\n",
        "\n",
        "```sql\n",
        "select count(*), sexo from credito group by sexo\n",
        "```\n",
        "\n",
        "```sql\n",
        "select max(limite_credito) as limite_credito, escolaridade, tipo_cartao, sexo from credito\n",
        "where escolaridade != 'na' and tipo_cartao != 'na'\n",
        "group by escolaridade, tipo_cartao, sexo\n",
        "order by limite_credito desc\n",
        "limit 10\n",
        "```\n",
        "\n",
        "```sql\n",
        "select max(valor_transacoes_12m) as maior_valor_gasto, avg(valor_transacoes_12m) as media_valor_gasto, min(valor_transacoes_12m) as min_valor_gasto, sexo\n",
        "from credito\n",
        "group by sexo\n",
        "```\n",
        "\n",
        "```sql\n",
        "select avg(qtd_produtos) as qts_produtos, avg(valor_transacoes_12m) as media_valor_transacoes, avg(limite_credito) as media_limite, sexo, salario_anual\n",
        "from credito\n",
        "where salario_anual != 'na'\n",
        "group by sexo, salario_anual\n",
        "order by avg(valor_transacoes_12m) desc\n",
        "```"
      ]
    },
    {
      "cell_type": "code",
      "source": [
        "import pandas as pd\n",
        "import matplotlib.pyplot as plt"
      ],
      "metadata": {
        "id": "4ZWxyj3RUj5u"
      },
      "execution_count": 7,
      "outputs": []
    },
    {
      "cell_type": "code",
      "source": [
        "# Carregar o arquivo CSV\n",
        "arquivo = 'credito8.csv'  # Substitua pelo caminho correto no seu Colab\n",
        "df = pd.read_csv(arquivo)\n",
        "\n",
        "# Definir os cabeçalhos manualmente\n",
        "df.columns = ['Idade', 'Sexo', 'Educacao', 'Escolaridade', 'Estado Civil', 'Faixa Salarial', 'Cor',\n",
        "              'Filhos', 'Tempo Emprego', 'Numero Cartoes', 'Limite', 'Saldo', 'Compras']\n",
        "\n",
        "df['Sexo'] = df['Sexo'].replace({'M': 'Masculino', 'F': 'Feminino'})\n",
        "\n",
        "# Contar a proporção de valores na coluna 'Sexo'\n",
        "sexo_counts = df['Sexo'].value_counts()\n",
        "\n",
        "# Gerar gráfico de pizza\n",
        "plt.figure(figsize=(6,6))\n",
        "plt.pie(sexo_counts, labels=sexo_counts.index, autopct='%1.1f%%', colors=['lightblue', 'pink'])\n",
        "plt.title('Proporção por Sexo')\n",
        "plt.show()"
      ],
      "metadata": {
        "colab": {
          "base_uri": "https://localhost:8080/",
          "height": 521
        },
        "id": "Zn8-9f2-Uqw1",
        "outputId": "71f20ab1-182b-4952-b63f-bdfc2b7f8539"
      },
      "execution_count": 9,
      "outputs": [
        {
          "output_type": "display_data",
          "data": {
            "text/plain": [
              "<Figure size 600x600 with 1 Axes>"
            ],
            "image/png": "[encoded data removed]"
          },
          "metadata": {}
        }
      ]
    },
    {
      "cell_type": "markdown",
      "metadata": {
        "id": "qDxe2l4cMcVa"
      },
      "source": [
        "# **2. Links úteis**\n",
        "\n",
        "* Kaggle: https://www.kaggle.com/\n",
        "* Portfólio projeto: https://www.kaggle.com/marianeneiva/credit-eda-and-analysis\n",
        "* Linkedlin: https://www.linkedin.com/feed/\n",
        "* GitHub: https://github.com/\n",
        "* Dados originais - gitHub André Perez: https://github.com/andre-marcos-perez/ebac-course-utils\n",
        "* Imagens do gitHub - Mariane Neiva: https://github.com/marianeneiva/sqlEBAC\n",
        "* AWS Athena: https://aws.amazon.com/pt/athena/?whats-new-cards.sort-by=item.additionalFields.postDateTime&whats-new-cards.sort-order=desc\n",
        "\n"
      ]
    },
    {
      "cell_type": "markdown",
      "metadata": {
        "id": "v3ijyrgzXMRd"
      },
      "source": [
        "# **3. Dicas de livros, podcasts e outros**\n",
        "\n",
        "Livro data science para negócios: [aqui](https://www.amazon.com.br/Data-Science-para-neg%C3%B3cios-Fawcett/dp/8576089726)\n",
        "\n",
        "Livro Storytelling with data: [aqui](https://www.amazon.com.br/Storytelling-com-Dados-Visualiza%C3%A7%C3%A3o-Profissionais/dp/8550804681/ref=pd_lpo_14_img_0/138-7561031-1469367?_encoding=UTF8&pd_rd_i=8550804681&pd_rd_r=fe7da531-9f42-4b36-bd47-8431bf4f9a55&pd_rd_w=Fpm3F&pd_rd_wg=GONsX&pf_rd_p=b8c189b6-d6c3-46b0-84be-ec6f4edc5b02&pf_rd_r=1QG055D8GYNB9VST3QRW&psc=1&refRID=1QG055D8GYNB9VST3QRW)\n",
        "\n",
        "Podcast Data Hackers: [aqui](https://datahackers.com.br/podcast)\n",
        "\n",
        "Medium Toward Data Science: [aqui](https://towardsdatascience.com/)\n",
        "\n",
        "Analytics Vidhya: [aqui](https://www.analyticsvidhya.com/)\n",
        "\n",
        "MIT Tech Review: [aqui](https://mittechreview.com.br/assine/?gclid=CjwKCAjwi9-HBhACEiwAPzUhHL6MavxxJQs9HYQ2K1bjsxpSNb7rxKXGt-PHdJqjc8UwJ-xp9kLCOBoCj54QAvD_BwE)\n",
        "\n",
        "Não há necessidade de comprar/ouvir/ler! São apenas dicas para você!\n"
      ]
    }
  ]
}