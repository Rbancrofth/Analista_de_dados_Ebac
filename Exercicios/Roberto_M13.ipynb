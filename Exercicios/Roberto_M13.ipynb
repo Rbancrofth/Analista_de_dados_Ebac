{
  "nbformat": 4,
  "nbformat_minor": 0,
  "metadata": {
    "colab": {
      "provenance": []
    },
    "kernelspec": {
      "name": "python3",
      "display_name": "Python 3"
    }
  },
  "cells": [
    {
      "cell_type": "markdown",
      "metadata": {
        "id": "KJqp9AANOCtf"
      },
      "source": [
        "<img src=\"https://raw.githubusercontent.com/andre-marcos-perez/ebac-course-utils/main/media/logo/newebac_logo_black_half.png\" alt=\"ebac-logo\">\n",
        "\n",
        "---\n",
        "\n",
        "# **Módulo** | Análise de Dados: Data Wrangling II\n",
        "Caderno de **Exercícios**<br>\n",
        "Professor [André Perez](https://www.linkedin.com/in/andremarcosperez/)\n",
        "\n",
        "---"
      ]
    },
    {
      "cell_type": "markdown",
      "metadata": {
        "id": "d9jDtUbDOE1-"
      },
      "source": [
        "# **Tópicos**\n",
        "\n",
        "<ol type=\"1\">\n",
        "  <li>Agregação e Ordenação;</li>\n",
        "  <li>Combinação;</li>\n",
        "  <li>Técnicas Avançadas.</li>\n",
        "</ol>"
      ]
    },
    {
      "cell_type": "markdown",
      "metadata": {
        "id": "SmoHgt-lwkpD"
      },
      "source": [
        "---"
      ]
    },
    {
      "cell_type": "markdown",
      "metadata": {
        "id": "GABI6OW8OfQ2"
      },
      "source": [
        "# **Exercícios**"
      ]
    },
    {
      "cell_type": "markdown",
      "metadata": {
        "id": "45DbYPgFhuR7"
      },
      "source": [
        "Neste exercícios, vamos trabalhar com dados geográficos, demográficos e econômicos do Brasil. Vamos manipular e combinar dados de duas frentes distintas para poder responder perguntas de negócios."
      ]
    },
    {
      "cell_type": "markdown",
      "metadata": {
        "id": "GWgNoJN8DHyY"
      },
      "source": [
        "## 1\\. Data Wrangling"
      ]
    },
    {
      "cell_type": "markdown",
      "metadata": {
        "id": "E30KnCdKRdYl"
      },
      "source": [
        "### **1.1. Estados**"
      ]
    },
    {
      "cell_type": "markdown",
      "metadata": {
        "id": "w2q1apyNYHbu"
      },
      "source": [
        "O arquivo `estados-bruto.xml` contém informações sobre estados (nome, sigla e região). **Carregue-o na máquina virtual do Google Colab**. Um arquivo do tipo XML é similar a um arquivo do tipo HTML, exemplo do estado do Acre:"
      ]
    },
    {
      "cell_type": "markdown",
      "metadata": {
        "id": "GzjE2aEyYW5A"
      },
      "source": [
        "```xml\n",
        "<ESTADO>\n",
        "  <ID>1</ID>\n",
        "  <NOME>ACRE</NOME>\n",
        "  <IDCAPITAL>16</IDCAPITAL>\n",
        "  <SIGLA>AC</SIGLA>\n",
        "  <REGIAO>NORTE</REGIAO>\n",
        "</ESTADO>\n",
        "```"
      ]
    },
    {
      "cell_type": "markdown",
      "metadata": {
        "id": "7Mtk7Dd9UHqg"
      },
      "source": [
        "Utilize o pacote Python `beautifulsoup4` para extrair os dados do arquivo `estados-bruto.xml` providenciado. Salve os dados extraidos no arquivo `estados-limpo.csv` separado por `;`. Exemplo das três primeiras linhas mais o cabeçalho:\n",
        "\n",
        "```\n",
        "estado;sigla;regiao\n",
        "ACRE;AC;NORTE\n",
        "ALAGOAS;AL;NORDESTE\n",
        "AMAPA;AP;NORTE\n",
        "```\n",
        "\n",
        "**Dica**: Utilize o parser de xml chamado `lxml` do `beautifulsoup4`."
      ]
    },
    {
      "cell_type": "code",
      "metadata": {
        "id": "kz0ZyYI0Sg6P"
      },
      "source": [
        "# ler o arquivo estados-bruto.xml, utilize o xml parser chamado lxml\n",
        "\n",
        "from bs4 import BeautifulSoup\n",
        "\n",
        "NOME_ARQUIVO_FONTE = 'estados-bruto.xml'\n",
        "\n",
        "with open('estados-bruto.xml', 'r', encoding='utf-8') as arquivo:\n",
        "    conteudo_xml = arquivo.read()\n",
        "\n",
        "fonte = BeautifulSoup(conteudo_xml, 'lxml-xml')"
      ],
      "execution_count": 1,
      "outputs": []
    },
    {
      "cell_type": "code",
      "metadata": {
        "id": "rB0u2NjEXhDo",
        "colab": {
          "base_uri": "https://localhost:8080/"
        },
        "outputId": "3077ae7a-60e8-4108-8623-07c25e6fa50b"
      },
      "source": [
        "dados_estados = []\n",
        "\n",
        "for estado in fonte.find_all('ESTADO'):\n",
        "    nome = estado.find('NOME').text\n",
        "    sigla = estado.find('SIGLA').text\n",
        "    regiao = estado.find('REGIAO').text\n",
        "    dados_estados.append([nome, sigla, regiao])\n",
        "\n",
        "print(\"estado;sigla;regiao\")\n",
        "for linha in dados_estados:\n",
        "    print(\";\".join(linha))"
      ],
      "execution_count": 2,
      "outputs": [
        {
          "output_type": "stream",
          "name": "stdout",
          "text": [
            "estado;sigla;regiao\n",
            "ACRE;AC;NORTE\n",
            "ALAGOAS;AL;NORDESTE\n",
            "AMAPA;AP;NORTE\n",
            "AMAZONAS;AM;NORTE\n",
            "BAHIA;BA;NORDESTE\n",
            "CEARA;CE;NORDESTE\n",
            "DISTRITO FEDERAL;DF;CENTRO-OESTE\n",
            "ESPIRITO SANTO;ES;SUDESTE\n",
            "GOIAS;GO;CENTRO-OESTE\n",
            "MARANHAO;MA;NORDESTE\n",
            "MATO GROSSO;MT;CENTRO-OESTE\n",
            "MATO GROSSO DO SUL;MS;CENTRO-OESTE\n",
            "PARA;PA;NORTE\n",
            "PARAIBA;PB;NORDESTE\n",
            "PARANA;PR;SUL\n",
            "PERNAMBUCO;PE;NORDESTE\n",
            "PIAUI;PI;NORDESTE\n",
            "RIO DE JANEIRO;RJ;SUDESTE\n",
            "RIO GRANDE DO NORTE;RN;NORDESTE\n",
            "RIO GRANDE DO SUL;RS;SUL\n",
            "RONDONIA;RO;NORTE\n",
            "RORAIMA;RR;NORTE\n",
            "SANTA CATARINA;SC;SUL\n",
            "SAO PAULO;SP;SUDESTE\n",
            "SERGIPE;SE;NORDESTE\n",
            "TOCANTINS;TO;NORTE\n",
            "MINAS GERAIS;MG;SUDESTE\n"
          ]
        }
      ]
    },
    {
      "cell_type": "code",
      "metadata": {
        "id": "9yCma_LASxFg",
        "colab": {
          "base_uri": "https://localhost:8080/"
        },
        "outputId": "f82d8c9d-b4a3-4bdc-ed75-a5a28f2242e6"
      },
      "source": [
        "import csv\n",
        "\n",
        "NOME_ARQUIVO_DESTINO = 'estados-limpo.csv'\n",
        "\n",
        "with open(NOME_ARQUIVO_DESTINO, 'w', newline='', encoding='utf-8') as csvfile:\n",
        "    escritor_csv = csv.writer(csvfile, delimiter=';')\n",
        "\n",
        "    # Escrever o cabeçalho do CSV\n",
        "    escritor_csv.writerow(['estado', 'sigla', 'regiao'])\n",
        "\n",
        "    # Escrever os dados extraídos\n",
        "    escritor_csv.writerows(dados_estados)\n",
        "\n",
        "print(f'Dados extraídos e salvos em {NOME_ARQUIVO_DESTINO}')\n"
      ],
      "execution_count": 3,
      "outputs": [
        {
          "output_type": "stream",
          "name": "stdout",
          "text": [
            "Dados extraídos e salvos em estados-limpo.csv\n"
          ]
        }
      ]
    },
    {
      "cell_type": "markdown",
      "metadata": {
        "id": "Fq0xqYYSYq92"
      },
      "source": [
        "### **1.2. Cidades**"
      ]
    },
    {
      "cell_type": "markdown",
      "metadata": {
        "id": "eWRbjhOQYq93"
      },
      "source": [
        "O arquivo `cidades-bruto.csv` contém informações demográficas e socioeconomicas das cidades do Brasil. **Carregue-o na máquina virtual do Google Colab**. Utilize o pacote Python `pandas` para extrair os dados do arquivo `cidades-bruto.xml` providenciado. Seguindo as seguintes especificações:"
      ]
    },
    {
      "cell_type": "markdown",
      "metadata": {
        "id": "76zW8sMsbhEu"
      },
      "source": [
        "1. Apenas dados do censo de 2010;\n",
        "1. Apenas as colunas UF, Nome, PIB, Pop_est_2009 e PIB_percapita."
      ]
    },
    {
      "cell_type": "markdown",
      "metadata": {
        "id": "auiIxlw-blp8"
      },
      "source": [
        "Salve os dados extraidos no arquivo `cidades-limpo.csv` separado por `;`. Exemplo das três primeiras linhas mais o cabeçalho:\n",
        "\n",
        "```\n",
        "estado;cidade;populacao;pib;pib_percapita\n",
        "BAHIA;TREMEDAL;18433;57883.9921875;3140.23999023\n",
        "RIO GRANDE DO SUL;TURUÇU;4000;45723875;11430.96972656\n",
        "ESPIRITO SANTO;VITÓRIA;320156;19782628;61790.58984375\n",
        "```"
      ]
    },
    {
      "cell_type": "code",
      "metadata": {
        "id": "nBmWOkvzYq94",
        "colab": {
          "base_uri": "https://localhost:8080/"
        },
        "outputId": "1535be53-b088-4c57-f694-cdcc6e770ce7"
      },
      "source": [
        "# ler o arquivo cidades-bruto.csv\n",
        "\n",
        "import pandas as pd\n",
        "\n",
        "# Nome do arquivo fonte\n",
        "NOME_ARQUIVO_FONTE = 'cidades-bruto.csv'\n",
        "\n",
        "# Ler o arquivo CSV\n",
        "cidades_df = pd.read_csv(NOME_ARQUIVO_FONTE, sep=',')\n",
        "\n",
        "# Selecionar apenas as colunas desejadas (ajuste conforme necessário)\n",
        "colunas_desejadas = ['UF', 'nome', 'PIB', 'Pop_est_2009', 'PIB_percapita']\n",
        "cidades_df_filtrado = cidades_df[colunas_desejadas]\n",
        "\n",
        "# Exibir as primeiras linhas do dataframe filtrado para verificar a seleção\n",
        "cidades_df_filtrado.columns = ['estado', 'cidade', 'pib', 'populacao', 'pib_percapita']\n",
        "\n",
        "# Salvar o dataframe filtrado em um novo arquivo CSV\n",
        "cidades_df_filtrado.to_csv('cidades-limpo.csv', sep=';', index=False)\n",
        "\n",
        "# Exibir as primeiras linhas do dataframe filtrado para verificar a seleção\n",
        "print(cidades_df_filtrado.head())"
      ],
      "execution_count": 7,
      "outputs": [
        {
          "output_type": "stream",
          "name": "stdout",
          "text": [
            "              estado     cidade           pib  populacao  pib_percapita\n",
            "0              BAHIA   Tremedal  5.788399e+04      18433    3140.239990\n",
            "1  RIO GRANDE DO SUL     Turuçu  4.572388e+04       4000   11430.969727\n",
            "2     ESPIRITO SANTO    Vitória  1.978263e+07     320156   61790.589844\n",
            "3       MINAS GERAIS  Jacutinga  2.478160e+05      21424   11567.209961\n",
            "4              PIAUÍ    Nazária  2.095138e+04       7895    2653.750000\n"
          ]
        }
      ]
    },
    {
      "cell_type": "code",
      "metadata": {
        "id": "2NKpI4h9Yq95"
      },
      "source": [
        "# visualize os resultados\n",
        "\n",
        "# continue o codigo aqui"
      ],
      "execution_count": null,
      "outputs": []
    },
    {
      "cell_type": "markdown",
      "metadata": {
        "id": "EBzoHVD8b_c7"
      },
      "source": [
        "### **1.3. Brasil**"
      ]
    },
    {
      "cell_type": "markdown",
      "metadata": {
        "id": "Ft6l5bDwb_c7"
      },
      "source": [
        "Utilize o pacote Python `pandas` para combinar os dados do arquivo `estados-limpo.csv` com os dados do arquivo `cidades-limpo.csv` em um único dataframe. Escolha a coluna e o método de combinação de tal forma que **não haja perda de dados** no processo (não produzirá valores nulos `NaN`). Salve os dados do dataframe no arquivo `brasil.csv`"
      ]
    },
    {
      "cell_type": "code",
      "metadata": {
        "id": "Vz3J7G4-dBXa",
        "colab": {
          "base_uri": "https://localhost:8080/"
        },
        "outputId": "d70a9765-983e-48bc-ed34-60da549f8229"
      },
      "source": [
        "import pandas as pd\n",
        "import unicodedata\n",
        "\n",
        "def remover_acentos(texto):\n",
        "    return ''.join(c for c in unicodedata.normalize('NFKD', texto) if unicodedata.category(c) != 'Mn')\n",
        "\n",
        "ARQUIVO_ESTADOS = 'estados-limpo.csv'\n",
        "ARQUIVO_CIDADES = 'cidades-limpo.csv'\n",
        "\n",
        "estados_df = pd.read_csv(ARQUIVO_ESTADOS, sep=';')\n",
        "cidades_df = pd.read_csv(ARQUIVO_CIDADES, sep=';')\n",
        "\n",
        "estados_df['estado'] = estados_df['estado'].apply(remover_acentos)\n",
        "cidades_df['estado'] = cidades_df['estado'].apply(remover_acentos)\n",
        "\n",
        "brasil_df = pd.merge(estados_df, cidades_df, on='estado', how='inner')\n",
        "\n",
        "brasil_df.to_csv('brasil.csv', sep=';', index=False)\n",
        "\n",
        "print(brasil_df.head())"
      ],
      "execution_count": 36,
      "outputs": [
        {
          "output_type": "stream",
          "name": "stdout",
          "text": [
            "  estado sigla regiao                cidade            pib  populacao  \\\n",
            "0   ACRE    AC  NORTE  Marechal Thaumaturgo  109181.867188      14275   \n",
            "1   ACRE    AC  NORTE      Senador Guiomard  217153.859375      19697   \n",
            "2   ACRE    AC  NORTE          Assis Brasil   48347.300781       5662   \n",
            "3   ACRE    AC  NORTE        Epitaciolândia  129641.093750      14224   \n",
            "4   ACRE    AC  NORTE         Manoel Urbano   61478.730469       7505   \n",
            "\n",
            "   pib_percapita  \n",
            "0    7648.470215  \n",
            "1   11024.719727  \n",
            "2    8538.910156  \n",
            "3    9114.250000  \n",
            "4    8191.700195  \n"
          ]
        }
      ]
    },
    {
      "cell_type": "markdown",
      "metadata": {
        "id": "waxn4B2UDHyl"
      },
      "source": [
        "---"
      ]
    },
    {
      "cell_type": "markdown",
      "metadata": {
        "id": "finLQoyyGVmk"
      },
      "source": [
        "## 2\\. Data Analytics"
      ]
    },
    {
      "cell_type": "markdown",
      "metadata": {
        "id": "Ab0GW19Ed1ig"
      },
      "source": [
        "### **2.1. DataFrame**"
      ]
    },
    {
      "cell_type": "markdown",
      "metadata": {
        "id": "l8jJYjeBdijt"
      },
      "source": [
        "Utilize o pacote Python `pandas` para carregar o arquivo `brasil.csv` no dataframe `brasil_df`."
      ]
    },
    {
      "cell_type": "code",
      "metadata": {
        "id": "8kFQLlqud4QL",
        "colab": {
          "base_uri": "https://localhost:8080/"
        },
        "outputId": "29eecff6-8588-489b-da7f-d9d48e96d55c"
      },
      "source": [
        "import pandas as pd\n",
        "\n",
        "# Nome do arquivo resultante\n",
        "ARQUIVO_BRASIL = 'brasil.csv'\n",
        "\n",
        "# Ler o arquivo CSV resultante\n",
        "brasil_df = pd.read_csv(ARQUIVO_BRASIL, sep=';')\n",
        "\n",
        "# Exibir as primeiras linhas do dataframe para verificar a leitura\n",
        "print(brasil_df.head())"
      ],
      "execution_count": 37,
      "outputs": [
        {
          "output_type": "stream",
          "name": "stdout",
          "text": [
            "  estado sigla regiao                cidade            pib  populacao  \\\n",
            "0   ACRE    AC  NORTE  Marechal Thaumaturgo  109181.867188      14275   \n",
            "1   ACRE    AC  NORTE      Senador Guiomard  217153.859375      19697   \n",
            "2   ACRE    AC  NORTE          Assis Brasil   48347.300781       5662   \n",
            "3   ACRE    AC  NORTE        Epitaciolândia  129641.093750      14224   \n",
            "4   ACRE    AC  NORTE         Manoel Urbano   61478.730469       7505   \n",
            "\n",
            "   pib_percapita  \n",
            "0    7648.470215  \n",
            "1   11024.719727  \n",
            "2    8538.910156  \n",
            "3    9114.250000  \n",
            "4    8191.700195  \n"
          ]
        }
      ]
    },
    {
      "cell_type": "markdown",
      "metadata": {
        "id": "ZFWvK8FXHuex"
      },
      "source": [
        "### **2.2. Analise**"
      ]
    },
    {
      "cell_type": "markdown",
      "metadata": {
        "id": "EGyz0R1dd62D"
      },
      "source": [
        "Utilize o dataframe `brasil_df` para responder as seguintes perguntas de negócio:"
      ]
    },
    {
      "cell_type": "markdown",
      "metadata": {
        "id": "lGnYVp7IeFBD"
      },
      "source": [
        " - Quais são as 10 cidades mais populosas do Brasil?"
      ]
    },
    {
      "cell_type": "code",
      "metadata": {
        "id": "KQKcD-VkeQYf",
        "colab": {
          "base_uri": "https://localhost:8080/"
        },
        "outputId": "4aa5120a-e946-46dc-ac1e-a68cfb69ee3f"
      },
      "source": [
        "cidades_mais_populosas = brasil_df.sort_values(by='populacao', ascending=False).head(10)\n",
        "\n",
        "print(cidades_mais_populosas[['cidade', 'populacao']])"
      ],
      "execution_count": 38,
      "outputs": [
        {
          "output_type": "stream",
          "name": "stdout",
          "text": [
            "              cidade  populacao\n",
            "4414       São Paulo   11037593\n",
            "2755  Rio de Janeiro    6186710\n",
            "246         Salvador    2998056\n",
            "803         Brasília    2606885\n",
            "767        Fortaleza    2505552\n",
            "5458  Belo Horizonte    2452617\n",
            "2061        Curitiba    1851215\n",
            "142           Manaus    1738641\n",
            "2454          Recife    1561659\n",
            "1692           Belém    1437600\n"
          ]
        }
      ]
    },
    {
      "cell_type": "markdown",
      "metadata": {
        "id": "l93St6uleWTp"
      },
      "source": [
        " - Quais são as 5 cidades com a menor PIB per capita da região nordeste?"
      ]
    },
    {
      "cell_type": "code",
      "metadata": {
        "id": "DS5akh2zeWTq",
        "colab": {
          "base_uri": "https://localhost:8080/"
        },
        "outputId": "1eb869c0-517c-46e2-f8f6-276231fd375d"
      },
      "source": [
        "nordeste_df = brasil_df[brasil_df['regiao'] == 'NORDESTE']\n",
        "\n",
        "nordeste_df = nordeste_df.sort_values(by='pib_percapita')\n",
        "\n",
        "menor_pib_per_capita = nordeste_df[['sigla', 'cidade', 'pib_percapita']].head(5)\n",
        "\n",
        "print(menor_pib_per_capita)"
      ],
      "execution_count": 44,
      "outputs": [
        {
          "output_type": "stream",
          "name": "stdout",
          "text": [
            "     sigla              cidade  pib_percapita\n",
            "1320    MA  São Vicente Ferrer    1929.969971\n",
            "1215    MA             Cajapió    2203.830078\n",
            "271     BA             Lamarão    2327.149902\n",
            "2520    PI       Dom Inocêncio    2358.239990\n",
            "1340    MA            Timbiras    2368.159912\n"
          ]
        }
      ]
    },
    {
      "cell_type": "markdown",
      "metadata": {
        "id": "GqwffgUmedmb"
      },
      "source": [
        " - Quais são as 15 cidades com maior PIB do do estado de São Paulo?"
      ]
    },
    {
      "cell_type": "code",
      "metadata": {
        "id": "tFKEn1gLedmc",
        "colab": {
          "base_uri": "https://localhost:8080/"
        },
        "outputId": "0631cbe0-c50c-4853-9b02-b93a50fbb1b1"
      },
      "source": [
        "sao_paulo_pib_df = brasil_df[brasil_df['estado'] == 'SAO PAULO']\n",
        "\n",
        "sao_paulo_pib_df = sao_paulo_pib_df.sort_values(by='pib', ascending=False)\n",
        "\n",
        "maior_pib_sp = sao_paulo_pib_df[['sigla', 'cidade', 'pib']].head(15)\n",
        "\n",
        "print(maior_pib_sp)"
      ],
      "execution_count": 47,
      "outputs": [
        {
          "output_type": "stream",
          "name": "stdout",
          "text": [
            "     sigla                 cidade          pib\n",
            "4414    SP              São Paulo  389317152.0\n",
            "4366    SP              Guarulhos   32473828.0\n",
            "4483    SP               Campinas   31654720.0\n",
            "4248    SP                 Osasco   31616452.0\n",
            "3951    SP  São Bernardo do Campo   28935768.0\n",
            "4487    SP                Barueri   26908070.0\n",
            "3908    SP                 Santos   22546134.0\n",
            "4135    SP    São José dos Campos   22018042.0\n",
            "4155    SP                Jundiaí   16585137.0\n",
            "3957    SP            Santo André   14709603.0\n",
            "3894    SP         Ribeirão Preto   14688064.0\n",
            "4295    SP               Sorocaba   14182597.0\n",
            "4179    SP                Diadema    9969819.0\n",
            "4477    SP             Piracicaba    9601211.0\n",
            "4140    SP     São Caetano do Sul    8920202.0\n"
          ]
        }
      ]
    },
    {
      "cell_type": "markdown",
      "metadata": {
        "id": "Wg_la1wOewoB"
      },
      "source": [
        " - Qual é o PIB do estado de Santa Catarina?"
      ]
    },
    {
      "cell_type": "code",
      "metadata": {
        "id": "LwGqow5_ewoB",
        "colab": {
          "base_uri": "https://localhost:8080/"
        },
        "outputId": "dab79b35-51ee-4dca-866f-296c8199c67d"
      },
      "source": [
        "# código para responder a pergunta\n",
        "\n",
        "sc_pib_df = brasil_df[brasil_df['estado'] == 'SANTA CATARINA']\n",
        "\n",
        "sc_pib_df = sc_pib_df['pib'].sum()\n",
        "\n",
        "print(f\"O PIB do estado de Santa Catarina é: R$ {sc_pib_df}\")"
      ],
      "execution_count": 52,
      "outputs": [
        {
          "output_type": "stream",
          "name": "stdout",
          "text": [
            "O PIB do estado de Santa Catarina é: R$ 129806256.75195317\n"
          ]
        }
      ]
    },
    {
      "cell_type": "markdown",
      "metadata": {
        "id": "Yaw2gDukfApr"
      },
      "source": [
        " - Qual é o população da região sul?"
      ]
    },
    {
      "cell_type": "code",
      "metadata": {
        "id": "enEkNjFQfAps",
        "colab": {
          "base_uri": "https://localhost:8080/"
        },
        "outputId": "7e06bdad-6f68-41f0-ae3c-3c8921c437c1"
      },
      "source": [
        "# código para responder a pergunta\n",
        "\n",
        "popsul_df = brasil_df[brasil_df['regiao'] == 'SUL']\n",
        "\n",
        "popsul_df = popsul_df['populacao'].sum()\n",
        "\n",
        "print(f\"A população do SUl é {popsul_df}\")"
      ],
      "execution_count": 53,
      "outputs": [
        {
          "output_type": "stream",
          "name": "stdout",
          "text": [
            "A população do SUl é 27719118\n"
          ]
        }
      ]
    },
    {
      "cell_type": "markdown",
      "metadata": {
        "id": "9qOaKRS9fFu8"
      },
      "source": [
        " - Qual é o PIB per capito médio das cidades do Mato Grosso do Sul?"
      ]
    },
    {
      "cell_type": "code",
      "metadata": {
        "id": "gX8DVSfFfFu9",
        "colab": {
          "base_uri": "https://localhost:8080/"
        },
        "outputId": "f61dc2c9-effa-4750-8b1b-706a9111579a"
      },
      "source": [
        "# código para responder a pergunta\n",
        "\n",
        "pib_medio_ms_df = brasil_df[brasil_df['estado'] == 'MATO GROSSO DO SUL']\n",
        "pib_medio_ms_df = pib_medio_ms_df['pib_percapita'].mean()\n",
        "\n",
        "print(f\"O PIB per capita médio de Mato Grosso do SUl é {pib_medio_ms_df:.2f}\")"
      ],
      "execution_count": 56,
      "outputs": [
        {
          "output_type": "stream",
          "name": "stdout",
          "text": [
            "O PIB médio de Mato Grosso do SUl é 14458.90\n"
          ]
        }
      ]
    },
    {
      "cell_type": "markdown",
      "metadata": {
        "id": "lvf-VqaffS2D"
      },
      "source": [
        " - Qual é a população do Brasil?"
      ]
    },
    {
      "cell_type": "code",
      "metadata": {
        "id": "_nBsY6EcfS2E",
        "colab": {
          "base_uri": "https://localhost:8080/"
        },
        "outputId": "ab21e7fb-9472-4740-9628-65c425961518"
      },
      "source": [
        "# código para respgunta\n",
        "populacao_total = brasil_df['populacao'].sum()\n",
        "\n",
        "print(f\"A população total do Brasil é de {populacao_total}\")"
      ],
      "execution_count": 58,
      "outputs": [
        {
          "output_type": "stream",
          "name": "stdout",
          "text": [
            "A população total do Brasil é: 191501418\n"
          ]
        }
      ]
    },
    {
      "cell_type": "markdown",
      "metadata": {
        "id": "hnTSARXpipkP"
      },
      "source": [
        "### **2.3. Visualização**"
      ]
    },
    {
      "cell_type": "markdown",
      "metadata": {
        "id": "7coMkY8xixFO"
      },
      "source": [
        "Utilize o dataframe `brasil_df` para gerar as seguintes visualizações."
      ]
    },
    {
      "cell_type": "markdown",
      "metadata": {
        "id": "SgvPvh4Vjctx"
      },
      "source": [
        " - Gere um gráfico de barras com as 10 cidades menos populosas do Brasil."
      ]
    },
    {
      "cell_type": "code",
      "metadata": {
        "id": "V8eM0uEUjcty",
        "colab": {
          "base_uri": "https://localhost:8080/",
          "height": 477
        },
        "outputId": "32f6ae72-dc75-40a7-9ba8-930d04e814ae"
      },
      "source": [
        "import pandas as pd\n",
        "import matplotlib.pyplot as plt\n",
        "\n",
        "menores_cidades = brasil_df.sort_values(by='populacao').head(10)\n",
        "\n",
        "plt.figure(figsize=(10, 6))\n",
        "plt.bar(menores_cidades['cidade'], menores_cidades['populacao'], color='skyblue')\n",
        "plt.xlabel('Cidades')\n",
        "plt.ylabel('População')\n",
        "plt.title('10 Cidades Menos Populosas do Brasil')\n",
        "plt.xticks(rotation=45)\n",
        "plt.tight_layout()\n",
        "\n",
        "# Mostrar o gráfico\n",
        "plt.show()"
      ],
      "execution_count": 60,
      "outputs": [
        {
          "output_type": "display_data",
          "data": {
            "text/plain": [
              "<Figure size 1000x600 with 1 Axes>"
            ],
            "image/png": "[encoded data removed]"
          },
          "metadata": {}
        }
      ]
    },
    {
      "cell_type": "markdown",
      "metadata": {
        "id": "gsa3SrTjjrGV"
      },
      "source": [
        " - Gere um gráfico de pizza com a proporção da população do Brasil por região."
      ]
    },
    {
      "cell_type": "code",
      "source": [
        "import pandas as pd\n",
        "import matplotlib.pyplot as plt\n",
        "\n",
        "# Supondo que o dataframe brasil_df já esteja carregado\n",
        "# Agrupar os dados por região e somar as populações\n",
        "populacao_por_regiao = brasil_df.groupby('regiao')['populacao'].sum()\n",
        "\n",
        "# Criar o gráfico de pizza\n",
        "plt.figure(figsize=(8, 8))\n",
        "plt.pie(populacao_por_regiao, labels=populacao_por_regiao.index, autopct='%1.1f%%', startangle=140, colors=plt.cm.Paired.colors)\n",
        "plt.title('Proporção da População do Brasil por Região')\n",
        "plt.axis('equal')  # Equal aspect ratio ensures that pie is drawn as a circle.\n",
        "\n",
        "# Mostrar o gráfico\n",
        "plt.show()"
      ],
      "metadata": {
        "colab": {
          "base_uri": "https://localhost:8080/",
          "height": 676
        },
        "id": "5VXTUY0iksDF",
        "outputId": "4395769d-60c7-4ec1-c180-17855efc6b9e"
      },
      "execution_count": 62,
      "outputs": [
        {
          "output_type": "display_data",
          "data": {
            "text/plain": [
              "<Figure size 800x800 with 1 Axes>"
            ],
            "image/png": "[encoded data removed]"
          },
          "metadata": {}
        }
      ]
    }
  ]
}